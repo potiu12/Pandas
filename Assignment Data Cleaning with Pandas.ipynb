{
 "cells": [
  {
   "cell_type": "code",
   "execution_count": null,
   "id": "3ed12a80-3b28-4d27-881f-5a68d224032a",
   "metadata": {},
   "outputs": [],
   "source": [
    "'''# -*- coding: utf-8 -*-\n",
    "\n",
    "#%% Libraries\n",
    "import pandas as pd\n",
    "import matplotlib.pyplot as plt\n",
    "import numpy as np\n",
    "\n",
    "#%% Importing Data\n",
    "flights_data = pd.read_csv('flights.csv')\n",
    "flights_data.head(10)\n",
    "weather_data_pd = pd.read_csv('weather.csv')\n",
    "weather_data_np = weather_data_pd.to_numpy()\n",
    "#%% Pandas Data Filtering/Sorting Question Answering\n",
    "#use flights_data\n",
    "\n",
    "#Question 1 How many flights were there from JFK to SLC? Int\n",
    "q_1 \n",
    "#Question 2 How many airlines fly to SLC? Should be int\n",
    "q_2 \n",
    "#Question 3 What is the average arrival delay for flights to RDU? float\n",
    "q_3\n",
    "#Question 4 What proportion of flights to SEA come from the two NYC airports (LGA and JFK)?  float\n",
    "q_4 \n",
    "#Question 5 Which date has the largest average depature delay? Pd slice with date and float\n",
    "#please make date a column. Preferred format is 2013/1/1 (y/m/d)\n",
    "q_5 \n",
    "#Question 6 Which date has the largest average arrival delay? pd slice with date and float\n",
    "q_6 \n",
    "#Question 7 Which flight departing LGA or JFK in 2013 flew the fastest? pd slice with tailnumber and speed\n",
    "#speed = distance/airtime\n",
    "q_7\n",
    "#Question 8 Replace all nans in the weather pd dataframe with 0s. Pd with no nans\n",
    "q_8 \n",
    "#%% Numpy Data Filtering/Sorting Question Answering\n",
    "#Use weather_data_np\n",
    "#Question 9 How many observations were made in Feburary? Int\n",
    "q_9 \n",
    "#Question 10 What was the mean for humidity in February? Float\n",
    "q_10\n",
    "#Question 11 What was the std for humidity in February? Float\n",
    "q_11\n"
   ]
  },
  {
   "cell_type": "code",
   "execution_count": 3,
   "id": "3e288544-f8e0-4d54-a6f3-ffeafcbcca46",
   "metadata": {},
   "outputs": [],
   "source": [
    "import pandas as pd\n",
    "import matplotlib.pyplot as plt\n",
    "import numpy as np\n"
   ]
  },
  {
   "cell_type": "code",
   "execution_count": 11,
   "id": "4e952e37-2662-468a-91c0-fca1977018ed",
   "metadata": {},
   "outputs": [
    {
     "name": "stdout",
     "output_type": "stream",
     "text": [
      "        Unnamed: 0  year  month  day  dep_time  dep_delay  arr_time  \\\n",
      "0                1  2013      1    1     517.0        2.0     830.0   \n",
      "1                2  2013      1    1     533.0        4.0     850.0   \n",
      "2                3  2013      1    1     542.0        2.0     923.0   \n",
      "3                4  2013      1    1     544.0       -1.0    1004.0   \n",
      "4                5  2013      1    1     554.0       -6.0     812.0   \n",
      "...            ...   ...    ...  ...       ...        ...       ...   \n",
      "336771      336772  2013      9   30       NaN        NaN       NaN   \n",
      "336772      336773  2013      9   30       NaN        NaN       NaN   \n",
      "336773      336774  2013      9   30       NaN        NaN       NaN   \n",
      "336774      336775  2013      9   30       NaN        NaN       NaN   \n",
      "336775      336776  2013      9   30       NaN        NaN       NaN   \n",
      "\n",
      "        arr_delay carrier tailnum  flight origin dest  air_time  distance  \\\n",
      "0            11.0      UA  N14228    1545    EWR  IAH     227.0      1400   \n",
      "1            20.0      UA  N24211    1714    LGA  IAH     227.0      1416   \n",
      "2            33.0      AA  N619AA    1141    JFK  MIA     160.0      1089   \n",
      "3           -18.0      B6  N804JB     725    JFK  BQN     183.0      1576   \n",
      "4           -25.0      DL  N668DN     461    LGA  ATL     116.0       762   \n",
      "...           ...     ...     ...     ...    ...  ...       ...       ...   \n",
      "336771        NaN      9E     NaN    3393    JFK  DCA       NaN       213   \n",
      "336772        NaN      9E     NaN    3525    LGA  SYR       NaN       198   \n",
      "336773        NaN      MQ  N535MQ    3461    LGA  BNA       NaN       764   \n",
      "336774        NaN      MQ  N511MQ    3572    LGA  CLE       NaN       419   \n",
      "336775        NaN      MQ  N839MQ    3531    LGA  RDU       NaN       431   \n",
      "\n",
      "        hour  minute  \n",
      "0        5.0    17.0  \n",
      "1        5.0    33.0  \n",
      "2        5.0    42.0  \n",
      "3        5.0    44.0  \n",
      "4        5.0    54.0  \n",
      "...      ...     ...  \n",
      "336771   NaN     NaN  \n",
      "336772   NaN     NaN  \n",
      "336773   NaN     NaN  \n",
      "336774   NaN     NaN  \n",
      "336775   NaN     NaN  \n",
      "\n",
      "[336776 rows x 17 columns]\n",
      "[[1 'EWR' 2013 ... 0.0 1013.9 10.0]\n",
      " [2 'EWR' 2013 ... 0.0 1013.0 10.0]\n",
      " [3 'EWR' 2013 ... 0.0 1012.6 10.0]\n",
      " ...\n",
      " [8717 'JFK' 2013 ... 0.0 1008.5 10.0]\n",
      " [8718 'JFK' 2013 ... 0.0 1023.9 10.0]\n",
      " [8719 'LGA' 2013 ... 0.0 1011.9 10.0]]\n"
     ]
    }
   ],
   "source": [
    "flights_data = pd.read_csv('Assignment Data Cleaning with Pandas/flights.csv')\n",
    "flights_data.head(10)\n",
    "print(flights_data)\n",
    "weather_data_pd = pd.read_csv('Assignment Data Cleaning with Pandas/weather.csv')\n",
    "weather_data_np = weather_data_pd.to_numpy()\n",
    "print(weather_data_np)\n"
   ]
  },
  {
   "cell_type": "code",
   "execution_count": 21,
   "id": "cd5b3b03-f6ee-4135-9e59-5acb88e731fa",
   "metadata": {},
   "outputs": [
    {
     "name": "stdout",
     "output_type": "stream",
     "text": [
      "Number of flights from JFK to SLC: 2113\n"
     ]
    }
   ],
   "source": [
    "jfk_to_slc = flights_data[(flights_data['origin'] == 'JFK') & (flights_data['dest'] == 'SLC')]\n",
    "number_of_flights = jfk_to_slc['origin'].count()\n",
    "print(f\"Number of flights from JFK to SLC: {number_of_flights}\")"
   ]
  },
  {
   "cell_type": "code",
   "execution_count": 25,
   "id": "84a77ae6-924e-4194-a1c0-0cfc6eb9b6b2",
   "metadata": {},
   "outputs": [
    {
     "name": "stdout",
     "output_type": "stream",
     "text": [
      "2\n"
     ]
    }
   ],
   "source": [
    "to_slc = len(flights_data[flights_data['dest'] == 'SLC']['carrier'].value_counts())\n",
    "#to_slc = len(flights_data[flights_data['dest'] == 'SLC']['carrier'].unique()) another way to do it using the function unique()\n",
    "\n",
    "print(to_slc)"
   ]
  },
  {
   "cell_type": "code",
   "execution_count": 33,
   "id": "8a5b91fe-9648-4f99-a5d5-99c7e7c4ef3b",
   "metadata": {},
   "outputs": [
    {
     "name": "stdout",
     "output_type": "stream",
     "text": [
      "10.05 minutes\n"
     ]
    }
   ],
   "source": [
    "avg_arr_delay = flights_data[flights_data['dest'] == 'RDU']['arr_delay'].mean()\n",
    "print(\"{:.2f}\".format(avg_arr_delay), \"minutes\")"
   ]
  },
  {
   "cell_type": "code",
   "execution_count": 45,
   "id": "13149a42-ac3f-40c6-b403-0f9dbf788025",
   "metadata": {},
   "outputs": [
    {
     "name": "stdout",
     "output_type": "stream",
     "text": [
      "53.33 %\n"
     ]
    }
   ],
   "source": [
    "# Total number of flights to SEA\n",
    "total_sea_flights = flights_data[flights_data['dest'] == 'SEA']['dest'].count()\n",
    "\n",
    "# Number of flights to SEA from LGA or JFK\n",
    "nyc_to_sea_flights = flights_data[(flights_data['dest'] == 'SEA') & (flights_data['origin'].isin(['LGA', 'JFK']))]['origin'].count()\n",
    "\n",
    "# Calculate the proportion\n",
    "q_4 = (nyc_to_sea_flights / total_sea_flights)*100\n",
    "\n",
    "# Print the result\n",
    "print(\"{:.2f}\".format(q_4),\"%\")"
   ]
  },
  {
   "cell_type": "code",
   "execution_count": 59,
   "id": "b87f273b-9d7c-4f20-802a-d71537d56eac",
   "metadata": {},
   "outputs": [
    {
     "data": {
      "text/html": [
       "<div>\n",
       "<style scoped>\n",
       "    .dataframe tbody tr th:only-of-type {\n",
       "        vertical-align: middle;\n",
       "    }\n",
       "\n",
       "    .dataframe tbody tr th {\n",
       "        vertical-align: top;\n",
       "    }\n",
       "\n",
       "    .dataframe thead th {\n",
       "        text-align: right;\n",
       "    }\n",
       "</style>\n",
       "<table border=\"1\" class=\"dataframe\">\n",
       "  <thead>\n",
       "    <tr style=\"text-align: right;\">\n",
       "      <th></th>\n",
       "      <th>date</th>\n",
       "      <th>avg_dep_delay</th>\n",
       "    </tr>\n",
       "  </thead>\n",
       "  <tbody>\n",
       "    <tr>\n",
       "      <th>0</th>\n",
       "      <td>2013/03/08</td>\n",
       "      <td>83.536921</td>\n",
       "    </tr>\n",
       "  </tbody>\n",
       "</table>\n",
       "</div>"
      ],
      "text/plain": [
       "         date  avg_dep_delay\n",
       "0  2013/03/08      83.536921"
      ]
     },
     "execution_count": 59,
     "metadata": {},
     "output_type": "execute_result"
    }
   ],
   "source": [
    "#Convert the 'year', 'month', and 'day' columns to a single 'date' column in the preferred format (y/m/d)\n",
    "flights_data['date'] = pd.to_datetime(flights_data[['year', 'month', 'day']]).dt.strftime('%Y/%m/%d')\n",
    "#flights_data['date'] = flights_data['year'].astype(str) + '/' + flights_data['month'].astype(str) + '/' + flights_data['day'].astype(str) \n",
    "#this is the non efficiente way, pd.to_datetime is very convinient to Convert data into a datetime format. \n",
    "#dt.strftime formats a datetime object into a specific string format, often for display or output purposes.\n",
    "\n",
    "#Calculate the average departure delay by date\n",
    "avg_dep_delay = flights_data.groupby('date')['dep_delay'].mean()\n",
    "\n",
    "#Find the date with the largest average departure delay\n",
    "q_5_date = avg_dep_delay.idxmax()  # Date with largest average departure delay. returns the index\n",
    "q_5_delay = avg_dep_delay.max()    # Largest average departure delay\n",
    "\n",
    "q_5_result = pd.DataFrame({'date': [q_5_date], 'avg_dep_delay': [q_5_delay]})\n",
    "q_5_result\n"
   ]
  },
  {
   "cell_type": "code",
   "execution_count": 65,
   "id": "722a0861-8dc4-44ba-ba65-d4d6893cf000",
   "metadata": {},
   "outputs": [
    {
     "data": {
      "text/html": [
       "<div>\n",
       "<style scoped>\n",
       "    .dataframe tbody tr th:only-of-type {\n",
       "        vertical-align: middle;\n",
       "    }\n",
       "\n",
       "    .dataframe tbody tr th {\n",
       "        vertical-align: top;\n",
       "    }\n",
       "\n",
       "    .dataframe thead th {\n",
       "        text-align: right;\n",
       "    }\n",
       "</style>\n",
       "<table border=\"1\" class=\"dataframe\">\n",
       "  <thead>\n",
       "    <tr style=\"text-align: right;\">\n",
       "      <th></th>\n",
       "      <th>date</th>\n",
       "      <th>avg_arr_delay</th>\n",
       "    </tr>\n",
       "  </thead>\n",
       "  <tbody>\n",
       "    <tr>\n",
       "      <th>0</th>\n",
       "      <td>2013/03/08</td>\n",
       "      <td>85.862155</td>\n",
       "    </tr>\n",
       "  </tbody>\n",
       "</table>\n",
       "</div>"
      ],
      "text/plain": [
       "         date  avg_arr_delay\n",
       "0  2013/03/08      85.862155"
      ]
     },
     "execution_count": 65,
     "metadata": {},
     "output_type": "execute_result"
    }
   ],
   "source": [
    "q_6ds = flights_data.groupby('date')['arr_delay'].mean()\n",
    "\n",
    "# Step 2: Find the date with the largest average arrival delay\n",
    "q_6_date = q_6ds.idxmax()  # Date with largest average arrival delay\n",
    "q_6_delay = q_6ds.max()    # Largest average arrival delay\n",
    "\n",
    "# Step 3: Create a DataFrame slice with the date and average arrival delay\n",
    "q_6_result = pd.DataFrame({'date': [q_6_date], 'avg_arr_delay': [q_6_delay]})\n",
    "\n",
    "# Output the result\n",
    "q_6_result"
   ]
  },
  {
   "cell_type": "code",
   "execution_count": 127,
   "id": "cb8db1c4-7e96-44f8-98fe-cf09b296cf79",
   "metadata": {},
   "outputs": [
    {
     "name": "stderr",
     "output_type": "stream",
     "text": [
      "/var/folders/p4/m5vvd2f57zdfzb7ylrq3b36m0000gn/T/ipykernel_45138/963890351.py:4: SettingWithCopyWarning: \n",
      "A value is trying to be set on a copy of a slice from a DataFrame.\n",
      "Try using .loc[row_indexer,col_indexer] = value instead\n",
      "\n",
      "See the caveats in the documentation: https://pandas.pydata.org/pandas-docs/stable/user_guide/indexing.html#returning-a-view-versus-a-copy\n",
      "  q7_ds['speed'] = (q7_ds['distance']) / (q6_ds['air_time'])\n"
     ]
    },
    {
     "data": {
      "text/html": [
       "<div>\n",
       "<style scoped>\n",
       "    .dataframe tbody tr th:only-of-type {\n",
       "        vertical-align: middle;\n",
       "    }\n",
       "\n",
       "    .dataframe tbody tr th {\n",
       "        vertical-align: top;\n",
       "    }\n",
       "\n",
       "    .dataframe thead th {\n",
       "        text-align: right;\n",
       "    }\n",
       "</style>\n",
       "<table border=\"1\" class=\"dataframe\">\n",
       "  <thead>\n",
       "    <tr style=\"text-align: right;\">\n",
       "      <th></th>\n",
       "      <th>tailnum</th>\n",
       "      <th>speed</th>\n",
       "    </tr>\n",
       "  </thead>\n",
       "  <tbody>\n",
       "    <tr>\n",
       "      <th>216447</th>\n",
       "      <td>N666DN</td>\n",
       "      <td>11.723077</td>\n",
       "    </tr>\n",
       "  </tbody>\n",
       "</table>\n",
       "</div>"
      ],
      "text/plain": [
       "       tailnum      speed\n",
       "216447  N666DN  11.723077"
      ]
     },
     "execution_count": 127,
     "metadata": {},
     "output_type": "execute_result"
    }
   ],
   "source": [
    "q7_ds = flights_data[(flights_data['year'] == 2013) & (flights_data['origin'].isin(['LGA', 'JFK']))]\n",
    "\n",
    "# speed=(distance / air_time)\n",
    "q7_ds['speed'] = (q7_ds['distance']) / (q6_ds['air_time'])\n",
    "\n",
    "# Find the flight with the maximum speed\n",
    "q_7 = q7_ds.nlargest(1, 'speed')[['tailnum', 'speed']]\n",
    "\n",
    "# Display the result\n",
    "q_7"
   ]
  },
  {
   "cell_type": "code",
   "execution_count": 125,
   "id": "c3b19ebc-5e34-4f07-81d4-712f3635ac96",
   "metadata": {},
   "outputs": [
    {
     "name": "stdout",
     "output_type": "stream",
     "text": [
      "      Unnamed: 0 origin  year  month   day  hour   temp   dewp  humid  \\\n",
      "0              1    EWR  2013    1.0   1.0   0.0  37.04  21.92  53.97   \n",
      "1              2    EWR  2013    1.0   1.0   1.0  37.04  21.92  53.97   \n",
      "2              3    EWR  2013    1.0   1.0   2.0  37.94  21.92  52.09   \n",
      "3              4    EWR  2013    1.0   1.0   3.0  37.94  23.00  54.51   \n",
      "4              5    EWR  2013    1.0   1.0   4.0  37.94  24.08  57.04   \n",
      "...          ...    ...   ...    ...   ...   ...    ...    ...    ...   \n",
      "8714        8715    JFK  2013    9.0   2.0  20.0  75.20  73.40  94.14   \n",
      "8715        8716    JFK  2013   10.0  23.0  10.0  48.92  39.02  68.51   \n",
      "8716        8717    JFK  2013   10.0  23.0  11.0  48.92  39.02  68.51   \n",
      "8717        8718    JFK  2013   12.0  17.0   5.0  26.96  10.94  50.34   \n",
      "8718        8719    LGA  2013    8.0  22.0  22.0  75.92  66.92  73.68   \n",
      "\n",
      "      wind_dir  wind_speed  wind_gust  precip  pressure  visib  \n",
      "0        230.0    10.35702  11.918651     0.0    1013.9   10.0  \n",
      "1        230.0    13.80936  15.891535     0.0    1013.0   10.0  \n",
      "2        230.0    12.65858  14.567241     0.0    1012.6   10.0  \n",
      "3        230.0    13.80936  15.891535     0.0    1012.7   10.0  \n",
      "4        240.0    14.96014  17.215830     0.0    1012.8   10.0  \n",
      "...        ...         ...        ...     ...       ...    ...  \n",
      "8714     200.0     4.60312   5.297178     0.0       0.0    4.0  \n",
      "8715      60.0     4.60312   5.297178     0.0    1008.1   10.0  \n",
      "8716      40.0     4.60312   5.297178     0.0    1008.5   10.0  \n",
      "8717      40.0     4.60312   5.297178     0.0    1023.9   10.0  \n",
      "8718     210.0     8.05546   9.270062     0.0    1011.9   10.0  \n",
      "\n",
      "[8719 rows x 15 columns]\n"
     ]
    }
   ],
   "source": [
    "q_8 = weather_data_pd.fillna(0)\n",
    "\n",
    "# Display the DataFrame with NaNs replaced by 0s\n",
    "print(q_8)"
   ]
  },
  {
   "cell_type": "code",
   "execution_count": 115,
   "id": "5a9d1be8-2bf3-49fc-a47f-a691a5922f69",
   "metadata": {},
   "outputs": [
    {
     "name": "stdout",
     "output_type": "stream",
     "text": [
      "[[1 'EWR' 2013 ... 0.0 1013.9 10.0]\n",
      " [2 'EWR' 2013 ... 0.0 1013.0 10.0]\n",
      " [3 'EWR' 2013 ... 0.0 1012.6 10.0]\n",
      " ...\n",
      " [8717 'JFK' 2013 ... 0.0 1008.5 10.0]\n",
      " [8718 'JFK' 2013 ... 0.0 1023.9 10.0]\n",
      " [8719 'LGA' 2013 ... 0.0 1011.9 10.0]]\n",
      "   Unnamed: 0 origin  year  month  day  hour   temp   dewp  humid  wind_dir  \\\n",
      "0           1    EWR  2013    1.0  1.0   0.0  37.04  21.92  53.97     230.0   \n",
      "1           2    EWR  2013    1.0  1.0   1.0  37.04  21.92  53.97     230.0   \n",
      "2           3    EWR  2013    1.0  1.0   2.0  37.94  21.92  52.09     230.0   \n",
      "3           4    EWR  2013    1.0  1.0   3.0  37.94  23.00  54.51     230.0   \n",
      "4           5    EWR  2013    1.0  1.0   4.0  37.94  24.08  57.04     240.0   \n",
      "\n",
      "   wind_speed  wind_gust  precip  pressure  visib  \n",
      "0    10.35702  11.918651     0.0    1013.9   10.0  \n",
      "1    13.80936  15.891535     0.0    1013.0   10.0  \n",
      "2    12.65858  14.567241     0.0    1012.6   10.0  \n",
      "3    13.80936  15.891535     0.0    1012.7   10.0  \n",
      "4    14.96014  17.215830     0.0    1012.8   10.0  \n"
     ]
    }
   ],
   "source": [
    "print(weather_data_np)\n",
    "print(weather_data_pd.head())"
   ]
  },
  {
   "cell_type": "code",
   "execution_count": 123,
   "id": "dba953d1-5fa1-40d9-9248-a927924a0a8e",
   "metadata": {},
   "outputs": [
    {
     "name": "stdout",
     "output_type": "stream",
     "text": [
      "671\n"
     ]
    }
   ],
   "source": [
    "february_observations = weather_data_np[weather_data_np[:, 3] == 2]\n",
    "\n",
    "# Count the number of rows (observations) in February\n",
    "q_9 = february_observations.shape[0]\n",
    "\n",
    "# Display the result\n",
    "print(q_9)\n",
    "\n",
    "\n",
    "#february_data = weather_data_pd[weather_data_pd['month'] == 2]\n",
    "#q_9 = february_data.shape[0]\n",
    "#print(\"Question 9:\", q_9) (used this code to double check the output)"
   ]
  },
  {
   "cell_type": "code",
   "execution_count": 145,
   "id": "879f9fd4-f483-4c46-bb76-a89fe3cc8b91",
   "metadata": {},
   "outputs": [
    {
     "name": "stdout",
     "output_type": "stream",
     "text": [
      "62.918152011922515\n"
     ]
    }
   ],
   "source": [
    "q_10ds = weather_data_np[weather_data_np[:, 3] == 2]\n",
    "\n",
    "# Calculate the mean for humidity in February, ignoring NaNs (assuming 'humidity' is in column index 5)\n",
    "q_10 = np.mean(q_10ds[:, 8])\n",
    "\n",
    "# Display the result\n",
    "print(q_10)\n",
    "\n",
    "#february_data_pd = weather_data_pd[weather_data_pd['month'] == 2]\n",
    "#humidity_mean_february_pd = february_data_pd['humid'].mean()\n",
    "#print(humidity_mean_february_pd)"
   ]
  },
  {
   "cell_type": "code",
   "execution_count": 147,
   "id": "8dcb706e-7c7e-42e8-86e9-6466263f093a",
   "metadata": {},
   "outputs": [
    {
     "name": "stdout",
     "output_type": "stream",
     "text": [
      "20.33690087674334\n"
     ]
    }
   ],
   "source": [
    "q_11ds = weather_data_np[weather_data_np[:, 3] == 2]\n",
    "\n",
    "# Calculate the standard deviation for humidity in February (assuming 'humidity' is in column index 8)\n",
    "q_11 = np.std(q_11ds[:, 8])\n",
    "\n",
    "# Display the result\n",
    "print(q_11)"
   ]
  },
  {
   "cell_type": "code",
   "execution_count": null,
   "id": "e8918572-2bf8-48c8-9f3c-273825d8738d",
   "metadata": {},
   "outputs": [],
   "source": []
  }
 ],
 "metadata": {
  "kernelspec": {
   "display_name": "Python 3 (ipykernel)",
   "language": "python",
   "name": "python3"
  },
  "language_info": {
   "codemirror_mode": {
    "name": "ipython",
    "version": 3
   },
   "file_extension": ".py",
   "mimetype": "text/x-python",
   "name": "python",
   "nbconvert_exporter": "python",
   "pygments_lexer": "ipython3",
   "version": "3.12.4"
  }
 },
 "nbformat": 4,
 "nbformat_minor": 5
}
